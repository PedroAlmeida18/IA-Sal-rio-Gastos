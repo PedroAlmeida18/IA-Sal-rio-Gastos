{
  "nbformat": 4,
  "nbformat_minor": 0,
  "metadata": {
    "colab": {
      "provenance": [],
      "authorship_tag": "ABX9TyOYMdBSbVX9c/WZVlY6qVPD"
    },
    "kernelspec": {
      "name": "python3",
      "display_name": "Python 3"
    },
    "language_info": {
      "name": "python"
    }
  },
  "cells": [
    {
      "cell_type": "code",
      "execution_count": 41,
      "metadata": {
        "colab": {
          "base_uri": "https://localhost:8080/"
        },
        "id": "gzPzWkLMF4-L",
        "outputId": "9810431f-c1d4-468a-ca61-14601ff385a0",
        "collapsed": true
      },
      "outputs": [
        {
          "output_type": "stream",
          "name": "stdout",
          "text": [
            "     Usuário      Água  Celular  Luz  Internet   Aluguel    Cartão     Lazer  \\\n",
            "0   0.000000  0.166667     0.25  0.2  0.142857  0.111111  0.071429  0.111111   \n",
            "1   0.010101  0.333333     0.50  0.4  0.285714  0.222222  0.142857  0.222222   \n",
            "2   0.020202  0.500000     0.75  0.6  0.428571  0.333333  0.214286  0.333333   \n",
            "3   0.030303  0.666667     1.00  0.8  0.571429  0.444444  0.285714  0.444444   \n",
            "4   0.040404  0.833333     0.00  1.0  0.714286  0.555556  0.357143  0.555556   \n",
            "..       ...       ...      ...  ...       ...       ...       ...       ...   \n",
            "95  0.959596  0.833333     0.25  0.0  0.000000  0.666667  0.428571  0.666667   \n",
            "96  0.969697  1.000000     0.50  0.2  0.142857  0.777778  0.500000  0.777778   \n",
            "97  0.979798  0.000000     0.75  0.4  0.285714  0.888889  0.571429  0.888889   \n",
            "98  0.989899  0.166667     1.00  0.6  0.428571  1.000000  0.642857  1.000000   \n",
            "99  1.000000  0.333333     0.00  0.8  0.571429  0.000000  0.714286  0.000000   \n",
            "\n",
            "    Apostas  Emprego Fixo     Bicos  \n",
            "0      0.25      0.111111  0.333333  \n",
            "1      0.50      0.222222  0.666667  \n",
            "2      0.75      0.333333  1.000000  \n",
            "3      1.00      0.444444  0.000000  \n",
            "4      0.00      0.555556  0.333333  \n",
            "..      ...           ...       ...  \n",
            "95     0.25      0.666667  0.000000  \n",
            "96     0.50      0.777778  0.333333  \n",
            "97     0.75      0.888889  0.666667  \n",
            "98     1.00      1.000000  1.000000  \n",
            "99     0.00      0.000000  0.000000  \n",
            "\n",
            "[100 rows x 11 columns]\n"
          ]
        }
      ],
      "source": [
        "import pandas as pd\n",
        "import numpy as np\n",
        "from sklearn.cluster import KMeans\n",
        "from sklearn.preprocessing import MinMaxScaler\n",
        "import matplotlib.pyplot as plt\n",
        "import seaborn as sns\n",
        "from sklearn.cluster import KMeans\n",
        "from sklearn.datasets import make_blobs\n",
        "\n",
        "dataframe = pd.read_excel('Analíse_relaçao_economiasEgastos.xlsx')\n",
        "\n",
        "#print(dataframe)\n",
        "\n",
        "dataframe_normalizado_Aluguel =(dataframe.Aluguel-dataframe.Aluguel.min())/(dataframe.Aluguel.max()-dataframe.Aluguel.min())\n",
        "#print(dataframe_normalizado_Aluguel)\n",
        "dataframe_normalizadoGeral=pd.DataFrame()\n",
        "for i in dataframe.columns :\n",
        "\n",
        "    dataframe_normalizado = (dataframe[i]- dataframe[i].min())/(dataframe[i].max()-dataframe[i].min())\n",
        "    dataframe_normalizado = pd.DataFrame(dataframe_normalizado)\n",
        "    dataframe_normalizado.columns = [i]\n",
        "    dataframe_normalizadoGeral = pd.concat([dataframe_normalizadoGeral,dataframe_normalizado],axis=1)\n",
        "dataframe_normalizadoGeral.to_excel('dataframeGeral.xlsx')\n",
        "print(dataframe_normalizadoGeral)\n"
      ]
    },
    {
      "cell_type": "code",
      "source": [],
      "metadata": {
        "id": "037eNWO06pdN"
      },
      "execution_count": null,
      "outputs": []
    }
  ]
}